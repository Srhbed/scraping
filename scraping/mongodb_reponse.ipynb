{
 "cells": [
  {
   "cell_type": "markdown",
   "metadata": {},
   "source": [
    "#### Question1:"
   ]
  },
  {
   "cell_type": "code",
   "execution_count": 3,
   "metadata": {},
   "outputs": [
    {
     "name": "stdout",
     "output_type": "stream",
     "text": [
      "{'_id': ObjectId('639b02909ea0f753b0472ae5'), 'titre': ['Gone with the Wind'], 'titre_original': [], 'score': '8.2', 'genre': ['Drama', 'Romance', 'War', 'Back to top'], 'date': ['1939', 'Passed'], 'duree': 238, 'Description': ['The manipulative daughter of a Georgia plantation owner conducts a turbulent romance with a roguish profiteer during the American Civil War and Reconstruction periods.'], 'acteurs': ['Clark Gable', 'Vivien Leigh', 'Thomas Mitchell', \"Barbara O'Neil\", 'Evelyn Keyes', 'Ann Rutherford', 'George Reeves', 'Fred Crane', 'Hattie McDaniel', 'Oscar Polk', 'Butterfly McQueen', 'Victor Jory', 'Everett Brown', 'Howard Hickman', 'Alicia Rhett', 'Leslie Howard', 'Olivia de Havilland', 'Rand Brooks'], 'public': 'Passed', 'pays': 'United States'}\n"
     ]
    }
   ],
   "source": [
    "from pymongo import MongoClient\n",
    "\n",
    "# Connect to the \"my_database\" database\n",
    "chemin= MongoClient(\"mongodb://localhost:27017/crawel_films\")\n",
    "\n",
    "# Get a reference to the \"my_collection\" collection\n",
    "db= chemin[\"crawel_films\"]\n",
    "collection=db['films']\n",
    "act=collection.find().sort(\"duree\",-1).limit(1)\n",
    "for item in act:\n",
    "    print(item)\n"
   ]
  },
  {
   "cell_type": "markdown",
   "metadata": {},
   "source": [
    "#### Question2\n"
   ]
  },
  {
   "cell_type": "code",
   "execution_count": 106,
   "metadata": {},
   "outputs": [
    {
     "name": "stdout",
     "output_type": "stream",
     "text": [
      "{'_id': ObjectId('639b027f9ea0f753b0472a19'), 'titre': ['The Shawshank Redemption'], 'titre_original': [], 'score': '9.3', 'genre': ['Drama', 'Back to top'], 'date': ['1994', 'R'], 'duree': 142, 'Description': ['Two imprisoned men bond over a number of years, finding solace and eventual redemption through acts of common decency.'], 'acteurs': ['Tim Robbins', 'Morgan Freeman', 'Bob Gunton', 'William Sadler', 'Clancy Brown', 'Gil Bellows', 'Mark Rolston', 'James Whitmore', 'Jeffrey DeMunn', 'Larry Brandenburg', 'Neil Giuntoli', 'Brian Libby', 'David Proval', 'Joseph Ragno', 'Jude Ciccolella', 'Paul McCrane', 'Renee Blaine', 'Scott Mann'], 'public': 'R', 'pays': 'United States'}\n",
      "{'_id': ObjectId('639b02a39ea0f753b0472bfd'), 'titre': ['The Godfather'], 'titre_original': [], 'score': '9.2', 'genre': ['Crime', 'Drama', 'Back to top'], 'date': ['1972', 'R'], 'duree': 175, 'Description': ['The aging patriarch of an organized crime dynasty in postwar New York City transfers control of his clandestine empire to his reluctant youngest son.'], 'acteurs': ['Marlon Brando', 'Al Pacino', 'James Caan', 'Diane Keaton', 'Richard S. Castellano', 'Robert Duvall', 'Sterling Hayden', 'John Marley', 'Richard Conte', 'Al Lettieri', 'Abe Vigoda', 'Talia Shire', 'Gianni Russo', 'John Cazale', 'Rudy Bond', 'Al Martino', 'Morgana King', 'Lenny Montana'], 'public': 'R', 'pays': 'United States'}\n",
      "{'_id': ObjectId('639b02a29ea0f753b0472bf7'), 'titre': [\"Schindler's List\"], 'titre_original': [], 'score': '9.0', 'genre': ['Biography', 'Drama', 'History', 'Back to top'], 'date': ['1993', 'R'], 'duree': 195, 'Description': ['In German-occupied Poland during World War II, industrialist Oskar Schindler gradually becomes concerned for his Jewish workforce after witnessing their persecution by the Nazis.'], 'acteurs': ['Liam Neeson', 'Ralph Fiennes', 'Ben Kingsley', 'Caroline Goodall', 'Jonathan Sagall', 'Embeth Davidtz', 'Malgorzata Gebel', 'Shmuel Levy', 'Mark Ivanir', 'Béatrice Macola', 'Andrzej Seweryn', 'Friedrich von Thun', 'Krzysztof Luft', 'Harry Nehring', 'Norbert Weisser', 'Adi Nitzan', 'Michael Schneider', 'Miri Fabian'], 'public': 'R', 'pays': 'United States'}\n",
      "{'_id': ObjectId('639b02a39ea0f753b0472bfb'), 'titre': ['The Dark Knight'], 'titre_original': [], 'score': '9.0', 'genre': ['Action', 'Crime', 'Drama', 'Back to top'], 'date': ['2008', 'PG-13'], 'duree': 152, 'Description': ['When the menace known as the Joker wreaks havoc and chaos on the people of Gotham, Batman must accept one of the greatest psychological and physical tests of his ability to fight injustice.'], 'acteurs': ['Christian Bale', 'Heath Ledger', 'Aaron Eckhart', 'Michael Caine', 'Maggie Gyllenhaal', 'Gary Oldman', 'Morgan Freeman', 'Monique Gabriela Curnen', 'Ron Dean', 'Cillian Murphy', 'Chin Han', 'Nestor Carbonell', 'Eric Roberts', 'Ritchie Coster', 'Anthony Michael Hall', 'Keith Szarabajka', 'Colin McFarlane', 'Joshua Harto'], 'public': 'PG-13', 'pays': 'United States'}\n",
      "{'_id': ObjectId('639b02a39ea0f753b0472bf9'), 'titre': ['12 Angry Men'], 'titre_original': [], 'score': '9.0', 'genre': ['Crime', 'Drama', 'Back to top'], 'date': ['1957', 'Approved'], 'duree': 96, 'Description': ['The jury in a New York City murder trial is frustrated by a single member whose skeptical caution forces them to more carefully consider the evidence before jumping to a hasty verdict.'], 'acteurs': ['Henry Fonda', 'Lee J. Cobb', 'Martin Balsam', 'John Fiedler', 'E.G. Marshall', 'Jack Klugman', 'Edward Binns', 'Jack Warden', 'Joseph Sweeney', 'Ed Begley', 'George Voskovec', 'Robert Webber', 'Rudy Bond', 'Tom Gorman', 'James Kelly', 'Billy Nelson', 'John Savoca', 'Walter Stocker'], 'public': 'Approved', 'pays': 'United States'}\n"
     ]
    }
   ],
   "source": [
    "from pymongo import MongoClient\n",
    "\n",
    "# Connect to the \"my_database\" database\n",
    "chemin= MongoClient(\"mongodb://localhost:27017\")\n",
    "\n",
    "# Get a reference to the \"my_collection\" collection\n",
    "db= chemin[\"crawel_films\"]\n",
    "collection=db['films']\n",
    "\n",
    "\n",
    "act = collection.find().sort('score',-1).limit(5)\n",
    "\n",
    "for item in act:\n",
    "    print(item)"
   ]
  },
  {
   "cell_type": "markdown",
   "metadata": {},
   "source": [
    "#### Question3"
   ]
  },
  {
   "cell_type": "code",
   "execution_count": 101,
   "metadata": {},
   "outputs": [
    {
     "name": "stdout",
     "output_type": "stream",
     "text": [
      "le nombre de films ou Tom Cruise à joué est :  7\n",
      "le nombre de films ou Tom Cruise à joué est :  1\n"
     ]
    }
   ],
   "source": [
    "# Dans combien de films a joué Morgan Freeman ? Tom Cruise ?\n",
    "from pymongo import MongoClient\n",
    "\n",
    "# Connect to the \"my_database\" database\n",
    "chemin= MongoClient(\"mongodb://localhost:27017\")\n",
    "\n",
    "# Get a reference to the \"my_collection\" collection\n",
    "# db= chemin[\"crawel_films\"]\n",
    "# collection=db['films']\n",
    "\n",
    "\n",
    "act =collection.count_documents({\"acteurs\": {\"$in\": [\"Morgan Freeman\"]}})\n",
    "\n",
    "act1=collection.count_documents({\"acteurs\": {\"$in\": [\"Tom Cruise\"]}})\n",
    "print(\"le nombre de films ou Tom Cruise à joué est : \",act)\n",
    "print(\"le nombre de films ou Tom Cruise à joué est : \",act1)\n",
    "\n",
    "\n",
    "\n"
   ]
  },
  {
   "cell_type": "markdown",
   "metadata": {},
   "source": [
    "#### Question 4"
   ]
  },
  {
   "cell_type": "code",
   "execution_count": 69,
   "metadata": {},
   "outputs": [
    {
     "name": "stdout",
     "output_type": "stream",
     "text": [
      "{'_id': ObjectId('639b029f9ea0f753b0472bc5'), 'titre': ['Psycho'], 'titre_original': [], 'score': '8.5', 'genre': ['Horror', 'Mystery', 'Thriller', 'Back to top'], 'date': ['1960', 'R'], 'duree': 109, 'Description': [\"A Phoenix secretary embezzles $40,000 from her employer's client, goes on the run and checks into a remote motel run by a young man under the domination of his mother.\"], 'acteurs': ['Anthony Perkins', 'Janet Leigh', 'Vera Miles', 'John Gavin', 'Martin Balsam', 'John McIntire', 'Simon Oakland', 'Frank Albertson', 'Patricia Hitchcock', 'Vaughn Taylor', 'Lurene Tuttle', 'John Anderson', 'Mort Mills', 'Fletcher Allen', 'Walter Bacon', 'Prudence Beers', 'Kit Carson', 'Francis De Sales'], 'public': 'R', 'pays': 'United States'}\n",
      "{'_id': ObjectId('639b029e9ea0f753b0472bb9'), 'titre': ['Alien'], 'titre_original': [], 'score': '8.5', 'genre': ['Horror', 'Sci-Fi', 'Back to top'], 'date': ['1979', 'R'], 'duree': 117, 'Description': ['The crew of a commercial spacecraft encounter a deadly lifeform after investigating an unknown transmission.'], 'acteurs': ['Sigourney Weaver', 'Tom Skerritt', 'John Hurt', 'Veronica Cartwright', 'Harry Dean Stanton', 'Ian Holm', 'Yaphet Kotto', 'Bolaji Badejo', 'Helen Horton', 'Eddie Powell'], 'public': 'R', 'pays': 'United Kingdom'}\n",
      "{'_id': ObjectId('639b02909ea0f753b0472aed'), 'titre': ['The Thing'], 'titre_original': [], 'score': '8.2', 'genre': ['Horror', 'Mystery', 'Sci-Fi', 'Back to top'], 'date': ['1982', 'R'], 'duree': 109, 'Description': ['A research team in Antarctica is hunted by a shape-shifting alien that assumes the appearance of its victims.'], 'acteurs': ['Kurt Russell', 'Wilford Brimley', 'Keith David', 'Richard Masur', 'T.K. Carter', 'David Clennon', 'Richard Dysart', 'Charles Hallahan', 'Peter Maloney', 'Donald Moffat', 'Joel Polis', 'Thomas G. Waites', 'Norbert Weisser', 'Larry Franco', 'Nate Irwin', 'William Zeman', 'Adrienne Barbeau', 'John Carpenter'], 'public': 'R', 'pays': 'United States'}\n",
      "{'_id': ObjectId('639b029d9ea0f753b0472baf'), 'titre': ['Django Unchained'], 'titre_original': [], 'score': '8.4', 'genre': ['Drama', 'Western', 'Back to top'], 'date': ['2012', 'R'], 'duree': 165, 'Description': ['With the help of a German bounty-hunter, a freed slave sets out to rescue his wife from a brutal plantation-owner in Mississippi.'], 'acteurs': ['Jamie Foxx', 'Christoph Waltz', 'Leonardo DiCaprio', 'Kerry Washington', 'Samuel L. Jackson', 'Walton Goggins', 'Dennis Christopher', 'James Remar', 'David Steen', 'Dana Gourrier', 'Nichole Galicia', 'Laura Cayouette', 'Ato Essandoh', 'Sammi Rotibi', 'Clay Donahue Fontenot', 'Escalante Lundy', 'Miriam F. Glover', 'Don Johnson'], 'public': 'R', 'pays': 'United States'}\n",
      "{'_id': ObjectId('639b02939ea0f753b0472b15'), 'titre': ['Unforgiven'], 'titre_original': [], 'score': '8.2', 'genre': ['Drama', 'Western', 'Back to top'], 'date': ['1992', 'R'], 'duree': 130, 'Description': ['Retired Old West gunslinger William Munny reluctantly takes on one last job, with the help of his old partner Ned Logan and a young man, The \"Schofield Kid.\"'], 'acteurs': ['Clint Eastwood', 'Gene Hackman', 'Morgan Freeman', 'Richard Harris', 'Jaimz Woolvett', 'Saul Rubinek', 'Frances Fisher', 'Anna Thomson', 'David Mucci', 'Rob Campbell', 'Anthony James', 'Tara Frederick', 'Beverley Elliott', 'Liisa Repo-Martell', 'Josie Smith', 'Shane Meier', 'Aline Levasseur', 'Cherrilene Cardinal'], 'public': 'R', 'pays': 'United States'}\n",
      "{'_id': ObjectId('639b02919ea0f753b0472afd'), 'titre': ['The Treasure of the Sierra Madre'], 'titre_original': [], 'score': '8.2', 'genre': ['Adventure', 'Drama', 'Western', 'Back to top'], 'date': ['1948', 'Passed'], 'duree': 126, 'Description': ['Two down-on-their-luck Americans searching for work in 1920s Mexico convince an old prospector to help them mine for gold in the Sierra Madre Mountains.'], 'acteurs': ['Humphrey Bogart', 'Walter Huston', 'Tim Holt', 'Bruce Bennett', 'Barton MacLane', 'Alfonso Bedoya', 'Arturo Soto Rangel', 'Manuel Dondé', 'José Torvay', 'Margarito Luna', 'Robert Blake', 'Guillermo Calles', 'Roberto Cañedo', 'Spencer Chan', 'Jacqueline Dalya', 'Ralph Dunn', 'Ernesto Escoto', 'Pat Flaherty'], 'public': 'Passed', 'pays': 'United States'}\n",
      "{'_id': ObjectId('639b029d9ea0f753b0472bad'), 'titre': ['The Great Dictator'], 'titre_original': [], 'score': '8.4', 'genre': ['Comedy', 'Drama', 'War', 'Back to top'], 'date': ['1940', 'G'], 'duree': 125, 'Description': [\"Dictator Adenoid Hynkel tries to expand his empire while a poor Jewish barber tries to avoid persecution from Hynkel's regime.\"], 'acteurs': ['Charles Chaplin', 'Paulette Goddard', 'Jack Oakie', 'Reginald Gardiner', 'Henry Daniell', 'Billy Gilbert', 'Grace Hayle', 'Carter DeHaven', 'Maurice Moscovitch', 'Emma Dunn', 'Bernard Gorcey', 'Paul Weigel', 'Chester Conklin', 'Esther Michelson', 'Hank Mann', 'Florence Wright', 'Eddie Gribbon', 'Rudolph Anders'], 'public': 'G', 'pays': 'United States'}\n",
      "{'_id': ObjectId('639b029c9ea0f753b0472b9b'), 'titre': ['Dr. Strangelove or: How I Learned to Stop Worrying and Love the Bomb'], 'titre_original': [], 'score': '8.4', 'genre': ['Comedy', 'War', 'Back to top'], 'date': ['1964', 'PG'], 'duree': 95, 'Description': ['An insane American general orders a bombing attack on the Soviet Union, triggering a path to nuclear holocaust that a war room full of politicians and generals frantically tries to stop.'], 'acteurs': ['Peter Sellers', 'George C. Scott', 'Sterling Hayden', 'Keenan Wynn', 'Slim Pickens', 'Peter Bull', 'James Earl Jones', 'Tracy Reed', 'Jack Creley', 'Frank Berry', \"Robert O'Neil\", 'Glenn Beck', 'Roy Stephens', 'Shane Rimmer', 'Hal Galili', 'Paul Tamarin', 'Laurence Herder', 'Gordon Tanner'], 'public': 'PG', 'pays': 'United Kingdom'}\n",
      "{'_id': ObjectId('639b02849ea0f753b0472a57'), 'titre': ['To Be or Not to Be'], 'titre_original': [], 'score': '8.2', 'genre': ['Comedy', 'Romance', 'War', 'Back to top'], 'date': ['1942', 'Passed'], 'duree': 99, 'Description': [\"During the Nazi occupation of Poland, an acting troupe becomes embroiled in a Polish soldier's efforts to track down a German spy.\"], 'acteurs': ['Carole Lombard', 'Jack Benny', 'Robert Stack', 'Felix Bressart', 'Lionel Atwill', 'Stanley Ridges', 'Sig Ruman', 'Tom Dugan', 'Charles Halton', 'George Lynn', 'Henry Victor', 'Maude Eburne', 'Halliwell Hobbes', 'Miles Mander', 'Rudolph Anders', 'Paul Barrett', 'Sven Hugo Borg', 'Danny Borzage'], 'public': 'Passed', 'pays': 'United States'}\n"
     ]
    }
   ],
   "source": [
    "# Quels sont les 3 meilleurs films d’horreur ? Dramatique ? Comique ?\n",
    "from pymongo import MongoClient\n",
    "\n",
    "# Connect to the \"my_database\" database\n",
    "chemin= MongoClient(\"mongodb://localhost:27017\")\n",
    "\n",
    "# Get a reference to the \"my_collection\" collection\n",
    "db= chemin[\"crawel_films\"]\n",
    "collection=db['films']\n",
    "\n",
    "\n",
    "act = collection.find({'genre':'Horror'}).sort('genre',-1).limit(3)\n",
    "act2 = collection.find({'genre':'Drama'}).sort('genre',-1).limit(3)\n",
    "act3 = collection.find({'genre':'Comedy'}).sort('genre',-1).limit(3)\n",
    "\n",
    "for item in act :\n",
    "    print(item)\n",
    "for item in act2 :\n",
    "    print(item)\n",
    "for item in act3 :\n",
    "    print(item)\n",
    "    \n"
   ]
  },
  {
   "cell_type": "markdown",
   "metadata": {},
   "source": [
    "#### Question 5"
   ]
  },
  {
   "cell_type": "code",
   "execution_count": 114,
   "metadata": {},
   "outputs": [
    {
     "name": "stdout",
     "output_type": "stream",
     "text": [
      "le pourcentage des 100 films américains les mieux notés est : 62 %\n"
     ]
    }
   ],
   "source": [
    "# Parmi les 100 films les mieux notés, quel pourcentage sont américains ? Français ?\n",
    "from pymongo import MongoClient\n",
    "\n",
    "# Connect to the \"my_database\" database\n",
    "chemin= MongoClient(\"mongodb://localhost:27017\")\n",
    "\n",
    "# Get a reference to the \"my_collection\" collection\n",
    "db= chemin[\"crawel_films\"]\n",
    "collection=db['films']\n",
    "\n",
    "\n",
    "act = collection.find().sort('score',-1).limit(100)\n",
    "count=0\n",
    "for i in act:\n",
    "     if \"United States\" in i[\"pays\"]:\n",
    "        count +=1\n",
    "        \n",
    "\n",
    "\n",
    "print(\"le pourcentage des 100 films américains les mieux notés est :\",count,'%')\n",
    "\n",
    "\n",
    "    \n",
    "\n",
    "\n"
   ]
  },
  {
   "cell_type": "code",
   "execution_count": 113,
   "metadata": {},
   "outputs": [
    {
     "name": "stdout",
     "output_type": "stream",
     "text": [
      "le pourcentage des 100 films français les mieuxs notés est : 4 %\n"
     ]
    }
   ],
   "source": [
    "# Parmi les 100 films les mieux notés, quel pourcentage sont américains ? Français ?\n",
    "from pymongo import MongoClient\n",
    "\n",
    "# Connect to the \"my_database\" database\n",
    "chemin= MongoClient(\"mongodb://localhost:27017\")\n",
    "\n",
    "# Get a reference to the \"my_collection\" collection\n",
    "db= chemin[\"crawel_films\"]\n",
    "collection=db['films']\n",
    "\n",
    "\n",
    "act = collection.find().sort('score',-1).limit(100)\n",
    "count=0\n",
    "for i in act:\n",
    "     if \"France\" in i[\"pays\"]:\n",
    "        count +=1\n",
    "        \n",
    "\n",
    "\n",
    "print(\"le pourcentage des 100 films français les mieux notés est :\",count,'%')"
   ]
  },
  {
   "cell_type": "markdown",
   "metadata": {},
   "source": [
    "#### Question 6"
   ]
  },
  {
   "cell_type": "code",
   "execution_count": 152,
   "metadata": {},
   "outputs": [
    {
     "name": "stdout",
     "output_type": "stream",
     "text": [
      "{'_id': 'Sci-Fi', 'duree_moyenne': 131.7}\n",
      "{'_id': 'Adventure', 'duree_moyenne': 129.41666666666666}\n",
      "{'_id': 'Musical', 'duree_moyenne': 103.0}\n",
      "{'_id': 'Biography', 'duree_moyenne': 147.06896551724137}\n",
      "{'_id': 'Romance', 'duree_moyenne': 118.47826086956522}\n",
      "{'_id': 'War', 'duree_moyenne': 140.43478260869566}\n",
      "{'_id': 'Sport', 'duree_moyenne': 122.0}\n",
      "{'_id': 'History', 'duree_moyenne': 156.0}\n",
      "{'_id': 'Fantasy', 'duree_moyenne': 123.57142857142857}\n",
      "{'_id': 'Crime', 'duree_moyenne': 131.7843137254902}\n",
      "{'_id': 'Thriller', 'duree_moyenne': 121.03333333333333}\n",
      "{'_id': 'Film-Noir', 'duree_moyenne': 110.0}\n",
      "{'_id': 'Action', 'duree_moyenne': 133.92156862745097}\n",
      "{'_id': 'Music', 'duree_moyenne': 134.25}\n",
      "{'_id': 'Western', 'duree_moyenne': 149.33333333333334}\n",
      "{'_id': 'Comedy', 'duree_moyenne': 106.32608695652173}\n",
      "{'_id': 'Drama', 'duree_moyenne': 134.63636363636363}\n",
      "{'_id': 'Back to top', 'duree_moyenne': 128.964}\n",
      "{'_id': 'Mystery', 'duree_moyenne': 124.61290322580645}\n",
      "{'_id': 'Animation', 'duree_moyenne': 100.95652173913044}\n",
      "{'_id': 'Family', 'duree_moyenne': 114.53846153846153}\n",
      "{'_id': 'Horror', 'duree_moyenne': 120.6}\n"
     ]
    }
   ],
   "source": [
    "# Quel est la durée moyenne d’un film en fonction du genre ?\n",
    "from pymongo import MongoClient\n",
    "\n",
    "# Connect to the \"my_database\" database\n",
    "chemin= MongoClient(\"mongodb://localhost:27017\")\n",
    "\n",
    "# Get a reference to the \"my_collection\" collection\n",
    "db= chemin[\"crawel_films\"]\n",
    "collection=db['films']\n",
    "\n",
    "act=collection.find().sort(\"duree\",-1).limit(1)\n",
    "\n",
    " \n",
    "act = collection.aggregate([\n",
    "    {\"$unwind\":\"$genre\"},\n",
    "        {\"$group\": {\n",
    "            \"_id\": \"$genre\",\"duree_moyenne\": { \"$avg\": \"$duree\" }\n",
    "        }\n",
    "    }\n",
    "])\n",
    "\n",
    "    \n",
    "\n",
    "for i in act:\n",
    " print(i)\n",
    "    "
   ]
  }
 ],
 "metadata": {
  "kernelspec": {
   "display_name": "Python 3.10.8 ('scrapy_env')",
   "language": "python",
   "name": "python3"
  },
  "language_info": {
   "codemirror_mode": {
    "name": "ipython",
    "version": 3
   },
   "file_extension": ".py",
   "mimetype": "text/x-python",
   "name": "python",
   "nbconvert_exporter": "python",
   "pygments_lexer": "ipython3",
   "version": "3.10.8"
  },
  "orig_nbformat": 4,
  "vscode": {
   "interpreter": {
    "hash": "4a5e96be517a6e400bd1508e75ebabb6d2d45df07e3914dff4aa7653b584719e"
   }
  }
 },
 "nbformat": 4,
 "nbformat_minor": 2
}
